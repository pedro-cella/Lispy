{
 "cells": [
  {
   "cell_type": "markdown",
   "metadata": {
    "nbgrader": {
     "grade": false,
     "grade_id": "cell-1025130ce14a9ab7",
     "locked": true,
     "schema_version": 1,
     "solution": false
    }
   },
   "source": [
    "# Lispy\n",
    "\n",
    "![Lisp Cycles](https://imgs.xkcd.com/comics/lisp_cycles.png)\n",
    "\n",
    "Neste exercício, seguiremos o tutorial do [Peter Norvig](https://en.wikipedia.org/wiki/Peter_Norvig), [Como escrever um interpretador LISP em Python](http://norvig.com/lispy.html). O objetivo é criar um interpretador simples de um sub-conjunto da linguagem Scheme que rode em Python. Nosso interpretador não será completo e terá uma performance sofrível. Mas, ainda assim, vale a pena a jornada para entendermos melhor como que um interpretador funciona.\n",
    "\n",
    "Esse guia acompanha o tutorial do Peter Norvig e você deve lê-lo para entender os próximos passos. Um pequeno spoiler, caso você não conheça LISP: vamos implementar uma linguagem que entende códigos indecifráveis e infestados de parênteses como este:\n",
    "\n",
    "```scheme\n",
    "(define fib (lambda (n) (if (< n 2) \n",
    "    1 \n",
    "    (+ (fib (- n 1)) (fib (- n 2))))))\n",
    "```\n",
    "\n",
    "Agora vou me despedir temporariamente: leia até a seção \"What A Language Interpreter Does\" e depois volte para este guia tutorial"
   ]
  },
  {
   "cell_type": "markdown",
   "metadata": {
    "nbgrader": {
     "grade": false,
     "grade_id": "cell-fc8d53bf861f2018",
     "locked": true,
     "schema_version": 1,
     "solution": false
    }
   },
   "source": [
    "## Exercício 1 - Entendendo o parser (1 pt)\n",
    "\n",
    "Agora que você está começando a entender o funcionamento do LISP e como as funções eval e parse devem funcionar, escreva o resultado esperado da análise (*parsing*) do programa abaixo na variável ``ast``:\n",
    "\n",
    "```scheme\n",
    "(lambda (n) (if (< n 1) \n",
    "        1 \n",
    "        (* n (fat (- n 1))))) \n",
    "```\n",
    "\n",
    "**Dica:** você não precisa implementar a função parse ainda. Basta escrever o resultado esperado na variável. O resultado consiste em uma lista de listas onde os símbolos como \"lambda\", \"n\", \"<\", etc são representados por strings."
   ]
  },
  {
   "cell_type": "code",
   "execution_count": 1,
   "metadata": {
    "nbgrader": {
     "grade": false,
     "grade_id": "q1",
     "locked": false,
     "schema_version": 1,
     "solution": true
    }
   },
   "outputs": [
    {
     "name": "stdout",
     "output_type": "stream",
     "text": [
      "['lambda', ['n'], ['if', ['<', 'n', 1], 1, ['*', 'n', ['fat', ['-', 'n', 1]]]]]\n"
     ]
    }
   ],
   "source": [
    "# ast = abstract syntax tree (árvore sintática abstrata, do inglês)\n",
    "\n",
    "ast = [ \n",
    "    ### BEGIN SOLUTION\n",
    "    'lambda', ['n'], ['if', ['<', 'n', 1], \n",
    "             1, \n",
    "             ['*', 'n', ['fat', ['-', 'n', 1]]]]\n",
    "    ### END SOLUTION\n",
    "]\n",
    "\n",
    "print(ast)"
   ]
  },
  {
   "cell_type": "markdown",
   "metadata": {
    "nbgrader": {
     "grade": false,
     "grade_id": "cell-e559a13ca5a97a48",
     "locked": true,
     "schema_version": 1,
     "solution": false
    }
   },
   "source": [
    "Este notebook conseguie corrigir este resultado automaticamente. Para isto, é necessário importar o módulo \"maestro\" como abaixo e depois rodar a célula com os \"testes para questão 1\""
   ]
  },
  {
   "cell_type": "code",
   "execution_count": 3,
   "metadata": {
    "nbgrader": {
     "grade": true,
     "grade_id": "q1-check",
     "locked": true,
     "points": 1,
     "schema_version": 1,
     "solution": false
    }
   },
   "outputs": [
    {
     "name": "stdout",
     "output_type": "stream",
     "text": [
      "Hash da AST: fa82facf358cb9e0a22f264e5f3715f3\n"
     ]
    }
   ],
   "source": [
    "\"testes para questão 1\"\n",
    "\n",
    "from hashlib import md5\n",
    "find_secret = lambda x: md5(repr(x).encode('utf8')).hexdigest()\n",
    "\n",
    "print('Hash da AST:', find_secret(ast))\n",
    "assert find_secret(ast) == 'fa82facf358cb9e0a22f264e5f3715f3'"
   ]
  },
  {
   "cell_type": "markdown",
   "metadata": {},
   "source": [
    "## Exercício 2 - Analisador léxico (1 pt)\n",
    "\n",
    "Agora que você sabe que o parser deve fazer, vamos começar a implementá-lo. Leia as seções \"Type Definitions\" e \"Tokenize\". Vamos começar implementando o tokenizador (ou analisador léxico)."
   ]
  },
  {
   "cell_type": "code",
   "execution_count": 5,
   "metadata": {
    "nbgrader": {
     "grade": false,
     "grade_id": "q2",
     "locked": false,
     "schema_version": 1,
     "solution": true
    }
   },
   "outputs": [],
   "source": [
    "def tokenize(chars: str) -> list:\n",
    "    \"\"\"\n",
    "    Converte uma string de caracteres em uma lista de tokens.\n",
    "    \"\"\"\n",
    "    ### BEGIN SOLUTION\n",
    "    return chars.replace('(', ' ( ').replace(')', ' ) ').split()\n",
    "    ### END SOLUTION"
   ]
  },
  {
   "cell_type": "code",
   "execution_count": 7,
   "metadata": {},
   "outputs": [
    {
     "name": "stdout",
     "output_type": "stream",
     "text": [
      "Programa 1: ['(', 'begin', '(', 'define', 'r', '10', ')', '(', '*', 'pi', '(', '*', 'r', 'r', ')', ')', ')']\n",
      "Programa 2: ['(', '+', '(', '*', '4', '10', ')', '2', ')']\n"
     ]
    }
   ],
   "source": [
    "# Teste seu tokenizador aqui e verifique o resultado executando a próxima célula!\n",
    "\n",
    "program1 = '(begin (define r 10) (* pi (* r r)))'\n",
    "program2 = '(+ (* 4 10) 2)'\n",
    "print('Programa 1:', tokenize(program1))\n",
    "print('Programa 2:', tokenize(program2))"
   ]
  },
  {
   "cell_type": "code",
   "execution_count": 9,
   "metadata": {
    "nbgrader": {
     "grade": true,
     "grade_id": "q2-check",
     "locked": true,
     "points": 1,
     "schema_version": 1,
     "solution": false
    }
   },
   "outputs": [],
   "source": [
    "\"tokeniza corretamente\"\n",
    "\n",
    "assert tokenize('(+ (* 4 10) 2)') == ['(', '+', '(', '*', '4', '10', ')', '2', ')']\n",
    "### BEGIN HIDDEN TESTS\n",
    "assert tokenize('(begin (define r 10) (* pi (* r r)))') == [\n",
    "    '(', 'begin', '(', 'define', 'r', '10', ')', '(', '*', 'pi', '(', '*', 'r', 'r', ')', ')', ')']\n",
    "### END HIDDEN TESTS"
   ]
  },
  {
   "cell_type": "markdown",
   "metadata": {
    "nbgrader": {
     "grade": false,
     "grade_id": "cell-7a95851d12c97151",
     "locked": true,
     "schema_version": 1,
     "solution": false
    }
   },
   "source": [
    "## Exercício 3 - Análise sintática (3 pts)\n",
    "\n",
    "O próximo passo consiste na análise sintática que converte uma lista de tokens em uma árvore sintática. Quando compomos os dois passos de 1) tokenizar a string de entrada e 2) converter a lista de tokens em uma árvore sintática, podemos criar uma função que realiza a análise sintática completa.\n",
    "\n",
    "O primeiro passo é entender os tipos de saída das nossas árvores sintáticas e como eles serão representados em Python. Isto é feito na célula abaixo:"
   ]
  },
  {
   "cell_type": "code",
   "execution_count": 10,
   "metadata": {
    "nbgrader": {
     "grade": false,
     "grade_id": "cell-cf9ef33d76f58329",
     "locked": true,
     "schema_version": 1,
     "solution": false
    }
   },
   "outputs": [],
   "source": [
    "Symbol = str              # Um símbolo Scheme, implementado como uma string Python\n",
    "Number = (int, float)     # Um símbolo Scheme, implementado como int ou float\n",
    "Atom   = (Symbol, Number) # Um átomo pode ser um símbolo ou um número\n",
    "List   = list             # Uma lista Scheme representada como uma lista Python\n",
    "Exp    = (Atom, List)     # Expressão Scheme, que pode ser um átomo ou uma lista"
   ]
  },
  {
   "cell_type": "markdown",
   "metadata": {
    "nbgrader": {
     "grade": false,
     "grade_id": "cell-5a9c2083d2a2d14b",
     "locked": true,
     "schema_version": 1,
     "solution": false
    }
   },
   "source": [
    "Depois, criamos a função `read_from_tokens()` que cria uma árvore sintática a partir de uma sequência de tokens e depois montamos a função `parse()` juntando `tokenize()` com `read_from_tokens()`:"
   ]
  },
  {
   "cell_type": "code",
   "execution_count": 11,
   "metadata": {
    "nbgrader": {
     "grade": false,
     "grade_id": "q3",
     "locked": false,
     "schema_version": 1,
     "solution": true
    }
   },
   "outputs": [],
   "source": [
    "def parse(program: str) -> Exp:\n",
    "    \"\"\"\n",
    "    Lê uma expressão Scheme de uma string e retorna a árvore sintática correspondente.\n",
    "    \"\"\"\n",
    "    return read_from_tokens(tokenize(program))\n",
    "\n",
    "\n",
    "def read_from_tokens(tokens: list) -> Exp:\n",
    "    \"\"\"\n",
    "    Monta árvore sintática a partir de uma lista de tokens.\n",
    "    \"\"\"\n",
    "    ### BEGIN SOLUTION\n",
    "    if len(tokens) == 0:\n",
    "        raise SyntaxError('unexpected EOF')\n",
    "    token = tokens.pop(0)\n",
    "    if token == '(':\n",
    "        L = []\n",
    "        while tokens[0] != ')':\n",
    "            L.append(read_from_tokens(tokens))\n",
    "        tokens.pop(0) # pop off ')'\n",
    "        return L\n",
    "    elif token == ')':\n",
    "        raise SyntaxError('unexpected )')\n",
    "    else:\n",
    "        try: \n",
    "            return int(token)\n",
    "        except ValueError:\n",
    "            try: \n",
    "                return float(token)\n",
    "            except ValueError:\n",
    "                return Symbol(token)\n",
    "    ### END SOLUTION"
   ]
  },
  {
   "cell_type": "code",
   "execution_count": 12,
   "metadata": {
    "nbgrader": {
     "grade": true,
     "grade_id": "q3-check",
     "locked": true,
     "points": 3,
     "schema_version": 1,
     "solution": false
    }
   },
   "outputs": [],
   "source": [
    "\"testa parser\"\n",
    "\n",
    "program = \"(begin (define r 10) (* pi (* r r)))\"\n",
    "assert parse(program) ==  ['begin', ['define', 'r', 10], ['*', 'pi', ['*', 'r', 'r']]]\n",
    "### BEGIN HIDDEN TESTS\n",
    "program = \"(begin (+ (fib 5) (fat 5)))\"\n",
    "assert parse(program) == ['begin', ['+', ['fib', 5], ['fat', 5]]]\n",
    "### END HIDDEN TESTS"
   ]
  },
  {
   "cell_type": "markdown",
   "metadata": {
    "nbgrader": {
     "grade": false,
     "grade_id": "cell-2afb0ae62af4c1ff",
     "locked": true,
     "schema_version": 1,
     "solution": false
    }
   },
   "source": [
    "## Exercício 4 - Ambiente de execução (2 pts)\n",
    "\n",
    "Vamos agora definir um ambiente de execução padrão. Leia a seção \"Enviroment\" e depois volte para cá.\n",
    "\n",
    "Peter Norvig propôs utilizar um dicionário que guarda as variáveis do escopo atual de execução com seus respectivos valores. Implemente o dicionário global_env que guarda estas implementações para as funções abaixo:\n",
    "\n",
    "- **abs, sin, cos, sqrt, pi, ...:** funções matemáticas\n",
    "- **+, -, *, /, >, <, >=, <=, =:** operadores matemáticos\n",
    "- **append:** junta duas listas\n",
    "- **apply**: aplica lista de arguments em função (apply f args)\n",
    "- **begin**: avalia sequência de comandos e retora o último\n",
    "- **car**: primeiro elemento da lista\n",
    "- **cdr**: resto da lista (pula 1o elemento)\n",
    "- **cons**: construtor; (car x lst) retorna lista que adiciona x ao início de lst\n",
    "- **eq?**: testa se dois argumentos são idênticos \n",
    "- **equal?**: testa se dois argumentos são iguais\n",
    "- **length**: retorna tamanho de uma lista \n",
    "- **list**: cria uma lista a partir dos argumentos\n",
    "- **list?**: verifica se argumento é uma lista \n",
    "- **map**: (map f lst) aplica função em cada elemento de uma lista e retorna lista com resultado\n",
    "- **max**: maior entre dois argumentos\n",
    "- **min**: menor entre dois argumentos\n",
    "- **not**: negação booleana\n",
    "- **null?**: verifica se o argumento é uma lista vazia\n",
    "- **number?**: verifica se o argumento é um número   \n",
    "- **procedure?**: verifica se o argumento é uma função\n",
    "- **round**: arredonda valor float para inteiro\n",
    "- **symbol?**: verifica se valor é um símbolo"
   ]
  },
  {
   "cell_type": "code",
   "execution_count": 13,
   "metadata": {
    "nbgrader": {
     "grade": false,
     "grade_id": "q4",
     "locked": false,
     "schema_version": 1,
     "solution": true
    }
   },
   "outputs": [],
   "source": [
    "import math\n",
    "import operator as op\n",
    "\n",
    "\n",
    "def standard_env():\n",
    "    \"\"\"\n",
    "    Retorna ambiente de execução (dicionário) que mapeia os nomes com\n",
    "    as implementações das principais funções do Scheme.\n",
    "    \"\"\"\n",
    "    env = {}\n",
    "    env.update(vars(math)) # sin, cos, sqrt, pi, ...\n",
    "    env.update({\n",
    "        '+':op.add, '-':op.sub, '*':op.mul, '/':op.truediv, \n",
    "        ### BEGIN SOLUTION\n",
    "        '>':op.gt, '<':op.lt, '>=':op.ge, '<=':op.le, '=':op.eq, \n",
    "        'abs':     abs,\n",
    "        'append':  op.add,  \n",
    "        'apply':   lambda proc, args: proc(*args),\n",
    "        'begin':   lambda *x: x[-1],\n",
    "        'car':     lambda x: x[0],\n",
    "        'cdr':     lambda x: x[1:], \n",
    "        'cons':    lambda x, y: [x, *y],\n",
    "        'eq?':     op.is_, \n",
    "        'equal?':  op.eq, \n",
    "        'length':  len, \n",
    "        'list':    lambda *x: list(x), \n",
    "        'list?':   lambda x: isinstance(x,list), \n",
    "        'map':     lambda *args: list(map(*args)),\n",
    "        'max':     max,\n",
    "        'min':     min,\n",
    "        'not':     op.not_,\n",
    "        'null?':   lambda x: x == [], \n",
    "        'number?': lambda x: isinstance(x, Number),   \n",
    "        'procedure?': callable,\n",
    "        'round':   round,\n",
    "        ### END SOLUTION\n",
    "        'symbol?': lambda x: isinstance(x, Symbol),\n",
    "    })\n",
    "    return env\n",
    "    \n",
    "    \n",
    "global_env = standard_env()"
   ]
  },
  {
   "cell_type": "code",
   "execution_count": 14,
   "metadata": {
    "nbgrader": {
     "grade": true,
     "grade_id": "q4-check-has-funcs",
     "locked": true,
     "points": 1,
     "schema_version": 1,
     "solution": false
    }
   },
   "outputs": [],
   "source": [
    "\"testa presença de funções global\"\n",
    "\n",
    "functions = (\n",
    "    'abs, sin, cos, sqrt, pi, tan, log, +, -, *, /, >, <, >=, <=, =, append, apply, begin, car, cdr, '\n",
    "    'cons, eq?, equal?, length, list, list?, map, max, min, not, null?, number?, procedure?, '\n",
    "    'round, symbol?').split(', ')\n",
    "\n",
    "assert all(f in global_env for f in functions)"
   ]
  },
  {
   "cell_type": "code",
   "execution_count": 15,
   "metadata": {
    "nbgrader": {
     "grade": true,
     "grade_id": "q4-check-implementations",
     "locked": true,
     "points": 1,
     "schema_version": 1,
     "solution": false
    }
   },
   "outputs": [],
   "source": [
    "\"testa implementações\"\n",
    "\n",
    "e = global_env\n",
    "_sqrt, _cons, _append = e['sqrt'], e['cons'], e['append']\n",
    "_car, _cdr = e['car'], e['cdr']\n",
    "_list = e['list']\n",
    "\n",
    "assert _sqrt(4) == 2\n",
    "assert _cons(1, [2, 3]) == [1, 2, 3]\n",
    "assert _append([1, 2], [3, 4]) == [1, 2, 3, 4]\n",
    "assert _car([1, 2, 3]) == 1\n",
    "assert _cdr([1, 2, 3]) == [2, 3]\n",
    "assert _list(1, 2, 3) == [1, 2, 3]\n",
    "\n",
    "### BEGIN HIDDEN TESTS\n",
    "_map = e['map']\n",
    "assert _map(_sqrt, [1, 4, 9, 16]) == [1, 2, 3, 4]\n",
    "### END HIDDEN TESTS"
   ]
  },
  {
   "cell_type": "markdown",
   "metadata": {
    "nbgrader": {
     "grade": false,
     "grade_id": "cell-42c6858d9656a4da",
     "locked": true,
     "schema_version": 1,
     "solution": false
    }
   },
   "source": [
    "## Exercício 5 - eval (3 pts)\n",
    "\n",
    "O próximo passo é a parte mais importante de um interpretador. Vamos implementar a função `eval(ast)`, que recebe uma representação de um programa (no nosso caso a árvore sintática) e a executa. Leia a seção \"Evaluation: eval\" e implemente a função `eval(ast)`."
   ]
  },
  {
   "cell_type": "code",
   "execution_count": 16,
   "metadata": {
    "nbgrader": {
     "grade": false,
     "grade_id": "q5",
     "locked": false,
     "schema_version": 1,
     "solution": true
    }
   },
   "outputs": [],
   "source": [
    "def eval(x: Exp, env = None) -> Exp:\n",
    "    \"\"\"\n",
    "    Avalia expressão no ambiente dado.\n",
    "    \"\"\"\n",
    "    if env is None:\n",
    "        env = global_env.copy()\n",
    "        \n",
    "    ### BEGIN SOLUTION\n",
    "    if isinstance(x, Symbol):\n",
    "        return env[x]\n",
    "\n",
    "    elif isinstance(x, Number):\n",
    "        return x\n",
    "    \n",
    "    # Expressões\n",
    "    cmd = x[0]\n",
    "    \n",
    "    if cmd == 'if':\n",
    "        (_, test, then, alt) = x\n",
    "        exp = (then if eval(test, env) else alt)\n",
    "        return eval(exp, env)\n",
    "    \n",
    "    elif cmd == 'define':\n",
    "        (_, symbol, exp) = x\n",
    "        env[symbol] = result = eval(exp, env)\n",
    "        return result\n",
    "        \n",
    "    # Chamada de função\n",
    "    else:\n",
    "        proc = eval(cmd, env)\n",
    "        args = (eval(arg, env) for arg in x[1:])\n",
    "        return proc(*args)\n",
    "    ### END SOLUTION"
   ]
  },
  {
   "cell_type": "code",
   "execution_count": 17,
   "metadata": {},
   "outputs": [
    {
     "name": "stdout",
     "output_type": "stream",
     "text": [
      "Digite uma expressão scheme [ex. (+ 1 2)]: (+ 1 2)\n"
     ]
    },
    {
     "data": {
      "text/plain": [
       "3"
      ]
     },
     "execution_count": 17,
     "metadata": {},
     "output_type": "execute_result"
    }
   ],
   "source": [
    "# Teste seu código aqui\n",
    "\n",
    "eval(parse(input('Digite uma expressão scheme [ex. (+ 1 2)]: ')))"
   ]
  },
  {
   "cell_type": "code",
   "execution_count": 18,
   "metadata": {
    "nbgrader": {
     "grade": true,
     "grade_id": "q5-check",
     "locked": true,
     "points": 3,
     "schema_version": 1,
     "solution": false
    }
   },
   "outputs": [],
   "source": [
    "\"checa funcao eval\"\n",
    "\n",
    "assert eval(parse('(+ 40 2)')) == 42\n",
    "assert eval(parse('42')) == 42\n",
    "assert eval(parse('sqrt'))(4) == 2\n",
    "assert eval(parse('(sqrt 4)'))  == 2\n",
    "assert eval(parse('(if (< 1 2) 42 0)')) == 42\n",
    "\n",
    "ns = {}\n",
    "assert eval(parse('(define x 42)'), ns) == 42\n",
    "assert ns == {'x': 42}\n",
    "\n",
    "### BEGIN HIDDEN TESTS\n",
    "ns = global_env.copy()\n",
    "assert eval(parse('(define x (if (< 1 2) 42 0))'), ns) == 42\n",
    "assert ns['x'] == 42\n",
    "### END HIDDEN TESTS"
   ]
  },
  {
   "cell_type": "markdown",
   "metadata": {
    "nbgrader": {
     "grade": false,
     "grade_id": "cell-07b605e8a4860b7a",
     "locked": true,
     "schema_version": 1,
     "solution": false
    }
   },
   "source": [
    "## Exercício 6 - repl (2 pts)\n",
    "\n",
    "Toda linguagem interpretada que se preze possui um shell iterativo. Vamos implementar o nosso a partir das sugetões em \"Interaction: A REPL\"."
   ]
  },
  {
   "cell_type": "code",
   "execution_count": 19,
   "metadata": {
    "nbgrader": {
     "grade": false,
     "grade_id": "q6",
     "locked": false,
     "schema_version": 1,
     "solution": true
    }
   },
   "outputs": [],
   "source": [
    "def repl(prompt='lis.py> '):\n",
    "    \"\"\"\n",
    "    Executa o console no modo \"read-eval-print loop\"\n",
    "    \n",
    "    Deve interromper a execução se o usuário digitar \"exit\"\n",
    "    \"\"\"\n",
    "    ### BEGIN SOLUTION\n",
    "    ns = global_env.copy()\n",
    "    \n",
    "    while True:\n",
    "        program = input(prompt).strip()\n",
    "        if program == 'exit':\n",
    "            break\n",
    "        \n",
    "        val = eval(parse(program), ns)\n",
    "        if val is not None: \n",
    "            print(show_scheme(val))\n",
    "    ### END SOLUTION\n",
    "\n",
    "\n",
    "def show_scheme(exp):\n",
    "    \"\"\"\n",
    "    Converte expressão para sua representação em Scheme.\n",
    "    \"\"\"\n",
    "    if isinstance(exp, List):\n",
    "        return '(' + ' '.join(map(schemestr, exp)) + ')' \n",
    "    else:\n",
    "        return str(exp)"
   ]
  },
  {
   "cell_type": "code",
   "execution_count": 21,
   "metadata": {},
   "outputs": [
    {
     "name": "stdout",
     "output_type": "stream",
     "text": [
      "lis.py> exit\n"
     ]
    }
   ],
   "source": [
    "# Teste o seu repl aqui\n",
    "\n",
    "repl()"
   ]
  },
  {
   "cell_type": "code",
   "execution_count": 22,
   "metadata": {
    "nbgrader": {
     "grade": false,
     "grade_id": "cell-ec7c20bff9697ec5",
     "locked": true,
     "schema_version": 1,
     "solution": false
    }
   },
   "outputs": [],
   "source": [
    "# Função que testa iteração: não edite\n",
    "# IGNORE ESTA CÉLULA ;)\n",
    "from collections import deque\n",
    "from functools import wraps\n",
    "from contextlib import contextmanager\n",
    "from types import SimpleNamespace as record\n",
    "import builtins\n",
    "import sys\n",
    "import io\n",
    "\n",
    "_input = input\n",
    "_print = print\n",
    "\n",
    "def check_interaction(*args, **kwargs):\n",
    "    func, mapping, *args = args\n",
    "\n",
    "    spec = deque()\n",
    "    for k, v in mapping.items():\n",
    "        spec.extend([k, ignore_ws, v])\n",
    "        \n",
    "    interaction = deque()\n",
    "    \n",
    "    @wraps(_input)\n",
    "    def input_(msg=None):\n",
    "        if msg is not None:\n",
    "            print_(msg, end='')\n",
    "        if not spec:\n",
    "            raise AssertionError('Unexpected input')\n",
    "\n",
    "        res = spec.popleft()\n",
    "        if not _is_input(res):\n",
    "            raise AssertionError('Expects output, but got an input command')\n",
    "\n",
    "        # Extract input from singleton list or set\n",
    "        try:\n",
    "            value, = res\n",
    "            interaction.append([value])\n",
    "            return value\n",
    "        except TypeError:\n",
    "            raise ValueError('Expected input list must have a single value')\n",
    "\n",
    "    @wraps(_print)\n",
    "    def print_(*args_, file=None, **kwargs_):\n",
    "        if file in (None, sys.stdout, sys.stderr):\n",
    "            fd = io.StringIO()\n",
    "            # noinspection PyTypeChecker\n",
    "            _print(*args_, file=fd, **kwargs_)\n",
    "            output = fd.getvalue()\n",
    "            interaction.append(output)\n",
    "            for line in output.splitlines():\n",
    "                _consume_output(line, spec)\n",
    "        else:\n",
    "            _print(*args_, file=file, **kwargs_)\n",
    "\n",
    "    with update_builtins(input=input_, print=print_):\n",
    "        try:\n",
    "            func(*args, **kwargs)\n",
    "        except Exception as ex:\n",
    "            print(interaction)\n",
    "            raise\n",
    "\n",
    "    assert spec == deque([]), f'Outputs/inputs were not exhausted: {spec}'\n",
    "    \n",
    "    \n",
    "def _is_input(obj):\n",
    "    return not isinstance(obj, str) and not callable(obj)\n",
    "\n",
    "\n",
    "def _consume_output(printed, spec: deque):\n",
    "    \"\"\"\n",
    "    Helper function: consume the given output from io spec.\n",
    "\n",
    "    Raises AssertionErrors when it encounter problems.\n",
    "    \"\"\"\n",
    "\n",
    "    if not printed:\n",
    "        return\n",
    "    elif not spec:\n",
    "        raise AssertionError('Asking to consume output, but expects no interaction')\n",
    "    elif _is_input(spec[0]):\n",
    "        raise AssertionError('Expects input, but trying to print a value')\n",
    "    elif printed == spec[0]:\n",
    "        spec.popleft()\n",
    "    elif callable(spec[0]):\n",
    "        spec.popleft()(printed, spec)\n",
    "    elif spec[0].startswith(printed):\n",
    "        spec[0] = spec[0][len(printed):]\n",
    "    elif printed.startswith(spec[0]):\n",
    "        n = len(spec.popleft())\n",
    "        _consume_output(printed[n:], spec)\n",
    "    else:\n",
    "        raise AssertionError(f'Printed wrong value:\\n'\n",
    "                             f'    print: {printed!r}\\n'\n",
    "                             f'    got:   {spec[0]!r}')\n",
    "    \n",
    "    \n",
    "def ignore_ws(received, spec):\n",
    "    \"\"\"\n",
    "    Consume all whitespace in the beginning of the spec.\n",
    "\n",
    "    No-op if first element does not start with whitespace.\n",
    "    \"\"\"\n",
    "    if spec and isinstance(spec[0], str):\n",
    "        spec[0] = spec[0].popleft().lstrip()\n",
    "        _consume_output(received, spec)\n",
    "        \n",
    "\n",
    "@contextmanager\n",
    "def update_builtins(**kwargs):\n",
    "    \"\"\"\n",
    "    Context manager that temporarily sets the specified builtins to the given\n",
    "    values.\n",
    "\n",
    "    Examples:\n",
    "        >>> with update_builtins(print=lambda *args: None) as orig:\n",
    "        ...     print('Hello!')          # print is shadowed here\n",
    "        ...     orig.print('Hello!')  # Calls real print\n",
    "    \"\"\"\n",
    "\n",
    "    undefined = object()\n",
    "    revert = {k: getattr(builtins, k, undefined) for k in kwargs}\n",
    "    try:\n",
    "        for k, v in kwargs.items():\n",
    "            setattr(builtins, k, v)\n",
    "        yield record(**{k: v for k, v in revert.items() if v is not undefined})\n",
    "    finally:\n",
    "        for k, v in revert.items():\n",
    "            if v is not undefined:\n",
    "                setattr(builtins, k, v)"
   ]
  },
  {
   "cell_type": "code",
   "execution_count": 23,
   "metadata": {
    "nbgrader": {
     "grade": true,
     "grade_id": "q6-check",
     "locked": true,
     "points": 2,
     "schema_version": 1,
     "solution": false
    }
   },
   "outputs": [],
   "source": [
    "\"checa repl\"\n",
    "\n",
    "check_interaction(repl, {\n",
    "    'lis.py>': {'(+ 1 2)'},\n",
    "    'lis.py>': '3',\n",
    "    'lis.py>': {'(list 1 2 3)'},\n",
    "    'lis.py>': '(1 2 3)',\n",
    "    'lis.py>': {'exit'},\n",
    "})"
   ]
  },
  {
   "cell_type": "markdown",
   "metadata": {
    "nbgrader": {
     "grade": false,
     "grade_id": "cell-080232aed6f0f604",
     "locked": true,
     "schema_version": 1,
     "solution": false
    }
   },
   "source": [
    "## Exercício 7 - quote (1 pt)\n",
    "\n",
    "Leia a seção \"Language 2: Full Lispy\", para entender o que ainda falta na nossa implementação. Neste exercício vamos implementar a forma especial de \"quotation\" (que em português podemos traduzir para \"citação\"). Esta é talvez tarefa mais simples, pois a função do \"quotation\" é simplesmente retornar o argumento sem fazer nada com ele.\n",
    "\n",
    "A existência de uma função que faz isto é um pouco intrigante, mas na verdade está na raiz do poder do LISP como linguagem. Com o \"quote\", podemos criar facilmente estruturas de dados que representam programa, manipulá-las e eventualmente executá-las utilizando a função `eval()`. \n",
    "\n",
    "O fato do Scheme (e quase todas formas de LISP) exporem as entranhas do interpretador desta maneira a torna uma linguagem extremamente poderosa. A comunidade LISP muitas vezes chama estas técnicas de metaprogramação de \"code as data\" (código como dados) e são consideradas como aspectos essenciais do LISP que a diferenciam de outras linguagens."
   ]
  },
  {
   "cell_type": "code",
   "execution_count": 24,
   "metadata": {
    "nbgrader": {
     "grade": false,
     "grade_id": "q7",
     "locked": false,
     "schema_version": 1,
     "solution": true
    }
   },
   "outputs": [],
   "source": [
    "def eval(x: Exp, env = None) -> Exp:\n",
    "    \"\"\"\n",
    "    Avalia expressão no ambiente dado.\n",
    "    \"\"\"\n",
    "    if env is None:\n",
    "        env = global_env.copy()\n",
    "        \n",
    "    ### BEGIN SOLUTION\n",
    "    if isinstance(x, Symbol):\n",
    "        return env[x]\n",
    "\n",
    "    elif isinstance(x, Number):\n",
    "        return x\n",
    "    \n",
    "    # Expressões\n",
    "    cmd = x[0]\n",
    "    \n",
    "    if cmd == 'if':\n",
    "        (_, test, then, alt) = x\n",
    "        exp = (then if eval(test, env) else alt)\n",
    "        return eval(exp, env)\n",
    "    \n",
    "    elif cmd == 'define':\n",
    "        (_, symbol, exp) = x\n",
    "        env[symbol] = result = eval(exp, env)\n",
    "        return result\n",
    "    \n",
    "    elif cmd == 'quote':\n",
    "        (_, expr) = x\n",
    "        return expr\n",
    "    \n",
    "    # Chamada de função\n",
    "    else:\n",
    "        proc = eval(cmd, env)\n",
    "        args = [eval(arg, env) for arg in x[1:]]\n",
    "        return proc(*args)\n",
    "    ### END SOLUTION"
   ]
  },
  {
   "cell_type": "code",
   "execution_count": 98,
   "metadata": {},
   "outputs": [
    {
     "data": {
      "text/plain": [
       "['sin', 'x']"
      ]
     },
     "execution_count": 98,
     "metadata": {},
     "output_type": "execute_result"
    }
   ],
   "source": [
    "# Teste aqui!\n",
    "\n",
    "eval(parse('(quote (sin x))'))"
   ]
  },
  {
   "cell_type": "code",
   "execution_count": 25,
   "metadata": {
    "nbgrader": {
     "grade": true,
     "grade_id": "q7-check",
     "locked": true,
     "points": 1,
     "schema_version": 1,
     "solution": false
    }
   },
   "outputs": [],
   "source": [
    "\"implementa o comando quote\"\n",
    "\n",
    "assert eval(parse('(quote (sin x))')) == ['sin', 'x']\n",
    "### BEGIN HIDDEN TESTS\n",
    "assert eval(parse('(quote (quote (1 2 3)))')) == ['quote', [1, 2, 3]]\n",
    "assert eval(parse('(quote 42)')) == 42\n",
    "assert eval(parse('(quote sqrt)')) == 'sqrt'\n",
    "### END HIDDEN TESTS"
   ]
  },
  {
   "cell_type": "markdown",
   "metadata": {
    "nbgrader": {
     "grade": false,
     "grade_id": "cell-e4dcdaf770ae52f4",
     "locked": true,
     "schema_version": 1,
     "solution": false
    }
   },
   "source": [
    "## Exercício 8 - lambda (3 pts)\n",
    "\n",
    "Nosso interpretador está tomando forma! Agora vamos abordar um aspecto mais complicado que é a implementação de procedimentos. A grande dificuldade aqui é criar ambientes de execução aninhados, já que a função pode criar variáveis locais, mas também herda as variáveis definidas no escopo global.\n",
    "\n",
    "Norvig sugere utilizar o ChainMap, que realmente é perfeito para a nossa situação. Leia a seção \"Nested Environments\" para entender o que ele propõe e implemente \"lambdas\" na função `eval()`."
   ]
  },
  {
   "cell_type": "code",
   "execution_count": 27,
   "metadata": {
    "nbgrader": {
     "grade": false,
     "grade_id": "cell-5fee2c2ed495d38a",
     "locked": false,
     "schema_version": 1,
     "solution": true
    }
   },
   "outputs": [],
   "source": [
    "from collections import ChainMap\n",
    "\n",
    "\n",
    "def eval(x: Exp, env = None) -> Exp:\n",
    "    \"\"\"\n",
    "    Avalia expressão no ambiente dado.\n",
    "    \"\"\"\n",
    "    if env is None:\n",
    "        env = global_env.copy()\n",
    "        \n",
    "    ### BEGIN SOLUTION\n",
    "    if isinstance(x, Symbol):\n",
    "        return env[x]\n",
    "\n",
    "    elif isinstance(x, Number):\n",
    "        return x\n",
    "    \n",
    "    # Expressões\n",
    "    cmd = x[0]\n",
    "    \n",
    "    if cmd == 'if':\n",
    "        (_, test, then, alt) = x\n",
    "        exp = (then if eval(test, env) else alt)\n",
    "        return eval(exp, env)\n",
    "    \n",
    "    elif cmd == 'define':\n",
    "        (_, symbol, exp) = x\n",
    "        env[symbol] = result = eval(exp, env)\n",
    "        return result\n",
    "    \n",
    "    elif cmd == 'quote':\n",
    "        (_, expr) = x\n",
    "        return expr\n",
    "    \n",
    "    elif cmd == 'lambda':\n",
    "        (_, names, body) = x\n",
    "        \n",
    "        def proc(*args):\n",
    "            local = dict(zip(names, args))\n",
    "            return eval(body, ChainMap(local, env))\n",
    "        \n",
    "        return proc\n",
    "    \n",
    "    # Chamada de função\n",
    "    else:\n",
    "        proc = eval(cmd, env)\n",
    "        args = [eval(arg, env) for arg in x[1:]]\n",
    "        return proc(*args)\n",
    "    ### END SOLUTION"
   ]
  },
  {
   "cell_type": "code",
   "execution_count": 28,
   "metadata": {},
   "outputs": [
    {
     "data": {
      "text/plain": [
       "42"
      ]
     },
     "execution_count": 28,
     "metadata": {},
     "output_type": "execute_result"
    }
   ],
   "source": [
    "# Teste aqui!\n",
    "\n",
    "inc = eval(parse('(lambda (x) (+ x 1))'))\n",
    "inc(41)"
   ]
  },
  {
   "cell_type": "code",
   "execution_count": 29,
   "metadata": {
    "nbgrader": {
     "grade": true,
     "grade_id": "q8-check",
     "locked": true,
     "points": 3,
     "schema_version": 1,
     "solution": false
    }
   },
   "outputs": [],
   "source": [
    "# Função incremento\n",
    "assert eval(parse('(lambda (x) (+ x 1))'))(41) == 42\n",
    "\n",
    "# Função fatorial\n",
    "assert eval(parse('''\n",
    "(begin\n",
    "    (define fat (lambda (n)\n",
    "        (if (< n 1)\n",
    "            1\n",
    "            (* n (fat (- n 1))))))\n",
    "    \n",
    "    (fat 5))''')) == 120\n",
    "### BEGIN HIDDEN TESTS\n",
    "_double = eval(parse('(lambda (x) (* 2 x))'))\n",
    "assert all(_double(i) == 2 * i for i in range(50)), 'Função double implementada incorretamente'\n",
    "### END HIDDEN TESTS"
   ]
  },
  {
   "cell_type": "markdown",
   "metadata": {
    "nbgrader": {
     "grade": false,
     "grade_id": "cell-f2d80c01a61ebcab",
     "locked": true,
     "schema_version": 1,
     "solution": false
    }
   },
   "source": [
    "## Exercício 9 - Fibonacci em LISP (2pts)\n",
    "\n",
    "Temos agora um interpretador completo o suficiente para implementar os clássicos da computação, como fibonacci, fatorial, etc. Vamos aproveitar!\n",
    "\n",
    "O próximo exercício consiste em implementar uma função que calcula o n-ésimo termo da sequência de Fibonacci até o número n. Lembre-se que o Scheme não possui laços, então devemos implementar o Fibonacci de forma recursiva."
   ]
  },
  {
   "cell_type": "code",
   "execution_count": 30,
   "metadata": {
    "nbgrader": {
     "grade": false,
     "grade_id": "q9",
     "locked": false,
     "schema_version": 1,
     "solution": true
    }
   },
   "outputs": [],
   "source": [
    "cmd = '''\n",
    "(define fib (lambda (n) \n",
    "    (* n n)))\n",
    "'''\n",
    "### BEGIN SOLUTION\n",
    "cmd = '''\n",
    "(begin\n",
    "    (define fib (lambda (n) (fib-acc n 1 1)))\n",
    "    \n",
    "    (define fib-acc (lambda (n x y)\n",
    "        (if (= n 0) \n",
    "            x \n",
    "            (fib-acc (- n 1) y (+ x y))))))\n",
    "'''\n",
    "### END SOLUTION"
   ]
  },
  {
   "cell_type": "code",
   "execution_count": 31,
   "metadata": {},
   "outputs": [
    {
     "data": {
      "text/plain": [
       "[1, 1, 2, 3, 5, 8, 13, 21, 34, 55]"
      ]
     },
     "execution_count": 31,
     "metadata": {},
     "output_type": "execute_result"
    }
   ],
   "source": [
    "# Teste sua função aqui!\n",
    "ns = global_env.copy()\n",
    "eval(parse(cmd), ns)\n",
    "fib = ns['fib']\n",
    "\n",
    "[fib(n) for n in range(10)]"
   ]
  },
  {
   "cell_type": "code",
   "execution_count": 32,
   "metadata": {
    "nbgrader": {
     "grade": true,
     "grade_id": "q9-check",
     "locked": true,
     "points": 2,
     "schema_version": 1,
     "solution": false
    }
   },
   "outputs": [],
   "source": [
    "ns = global_env.copy()\n",
    "eval(parse(cmd), ns)\n",
    "fib = ns['fib']\n",
    "\n",
    "assert [fib(n) for n in range(10)] == [1, 1, 2, 3, 5, 8, 13, 21, 34, 55]\n",
    "### BEGIN HIDDEN TESTS\n",
    "_fib = lambda n, x=1, y=1: x if n == 0 else _fib(n - 1, y, x + y)\n",
    "assert all(fib(n) == _fib(n) for n in range(100))\n",
    "### END HIDDEN TESTS"
   ]
  },
  {
   "cell_type": "markdown",
   "metadata": {
    "nbgrader": {
     "grade": false,
     "grade_id": "cell-718d37b04e58addc",
     "locked": true,
     "schema_version": 1,
     "solution": false
    }
   },
   "source": [
    "## Questão 10 - extendendo as funções builtin (3pts)\n",
    "\n",
    "Agora vamos acrescentar algumas funções adicionais no nosso ambiente. O ambiente sugerido pelo Dr. Norvig é bem minimalista e não implementa várias funções disponíveis por padrão no Scheme. Obviamente não vamos implementar todas estas funções, mas apenas acrescentar algumas. \n",
    "\n",
    "Escolhi as funções `even?/odd?/quotient/modulo/remainder` para este exercício. Queremos implementar estas funções com base no comportamento esperado para a linguagem. Para fazer isto, vamos ler a documentação do Scheme e entender exatamente o que deve ser implementado. Siga para [even?](https://docs.racket-lang.org/reference/number-types.html?q=even%3F#%28def._%28%28quote._~23~25kernel%29._even~3f%29%29) para começar os serviços."
   ]
  },
  {
   "cell_type": "code",
   "execution_count": 33,
   "metadata": {
    "nbgrader": {
     "grade": false,
     "grade_id": "q10",
     "locked": false,
     "schema_version": 1,
     "solution": true
    }
   },
   "outputs": [],
   "source": [
    "def standard_env_ext():\n",
    "    env = standard_env()\n",
    "    ### BEGIN SOLUTION\n",
    "    env.update({\n",
    "        'even?': lambda x: x % 2 == 0,\n",
    "        'odd?': lambda x: x % 2 == 1,\n",
    "        'quotient': lambda x, y: int(x / y),\n",
    "        'remainder': lambda x, y: int(math.remainder(x, y)),\n",
    "        'modulo': op.mod,\n",
    "    })\n",
    "    ### END SOLUTION\n",
    "    return env\n",
    "\n",
    "global_env = standard_env_ext()"
   ]
  },
  {
   "cell_type": "code",
   "execution_count": 34,
   "metadata": {
    "nbgrader": {
     "grade": true,
     "grade_id": "q10-even",
     "locked": true,
     "points": 1,
     "schema_version": 1,
     "solution": false
    }
   },
   "outputs": [],
   "source": [
    "\"even? e odd?\"\n",
    "\n",
    "_is_even = global_env['even?']\n",
    "_is_odd = global_env['odd?']\n",
    "assert _is_even(42) and not _is_even(21)\n",
    "assert not _is_odd(42) and _is_odd(21)\n",
    "### BEGIN HIDDEN TESTS\n",
    "for i in range(10):\n",
    "    assert _is_even(2 * i) and not _is_even(2 * i + 1)\n",
    "### END HIDDEN TESTS"
   ]
  },
  {
   "cell_type": "code",
   "execution_count": 35,
   "metadata": {
    "nbgrader": {
     "grade": true,
     "grade_id": "q10-quotient",
     "locked": true,
     "points": 1,
     "schema_version": 1,
     "solution": false
    }
   },
   "outputs": [],
   "source": [
    "\"divisão inteira\"\n",
    "\n",
    "_quotient = global_env['quotient']\n",
    "assert _quotient(10, 3) == 3\n",
    "assert _quotient(-10.0, 3) == -3.0\n",
    "assert _quotient(13, -5) == -2\n",
    "assert _quotient(-13, -5) == 2\n",
    "### BEGIN HIDDEN TESTS\n",
    "assert _quotient(11, 4) == 2\n",
    "assert _quotient(-11, 4) == -2\n",
    "assert _quotient(11, -4) == -2\n",
    "assert _quotient(-11, -4) == 2\n",
    "### END HIDDEN TESTS"
   ]
  },
  {
   "cell_type": "code",
   "execution_count": 36,
   "metadata": {
    "nbgrader": {
     "grade": true,
     "grade_id": "q10-remainder",
     "locked": true,
     "points": 1,
     "schema_version": 1,
     "solution": false
    }
   },
   "outputs": [],
   "source": [
    "\"resto da divisão\"\n",
    "\n",
    "_modulo = global_env['modulo']\n",
    "assert _modulo(10, 3) == 1\n",
    "assert _modulo(-10.0, 3) == 2.0\n",
    "assert _modulo(10.0, -3) == -2.0\n",
    "assert _modulo(-10, -3) == -1\n",
    "\n",
    "_remainder = global_env['remainder']\n",
    "assert _remainder(10, 3) == 1\n",
    "assert _remainder(-10.0, 3) == -1.0\n",
    "assert _remainder(10.0, -3) == 1.0\n",
    "assert _remainder(-10.0, -3) == -1.0\n",
    "assert isinstance(_remainder(13, 4), int)\n",
    "\n",
    "### BEGIN HIDDEN TESTS\n",
    "assert _modulo(11, 4) == 3\n",
    "assert _modulo(-11, 4) == 1\n",
    "assert _remainder(13, 4) == 1\n",
    "assert _remainder(-13, 4) == -1\n",
    "### END HIDDEN TESTS"
   ]
  },
  {
   "cell_type": "markdown",
   "metadata": {
    "nbgrader": {
     "grade": false,
     "grade_id": "cell-df4e872b56d349ee",
     "locked": true,
     "schema_version": 1,
     "solution": false
    }
   },
   "source": [
    "### Exercício 11 - Collatz em LISP (3pts)\n",
    "\n",
    "\n",
    "Agora que sabemos calcular restos da divisão e checar a paridade de números, vamos ao último desafio. Imlemente a sequência de [Collatz](https://www.youtube.com/watch?v=5mFpVDpKX70)\n",
    "\n",
    "Você deve definir uma função `(collatz n)` que recebe um\n",
    "número n qualquer e retorna uma lista com a sequência de Collatz até convergir para 1 (inclusive)."
   ]
  },
  {
   "cell_type": "code",
   "execution_count": 37,
   "metadata": {
    "nbgrader": {
     "grade": false,
     "grade_id": "q11",
     "locked": false,
     "schema_version": 1,
     "solution": true
    }
   },
   "outputs": [],
   "source": [
    "cmd = '''\n",
    "(begin \n",
    "    (define collatz (lambda (n) \n",
    "        (cons 1 (list 2 3))))\n",
    "    \n",
    "    (define auxiliary-function (lambda (n) n)))\n",
    "'''\n",
    "### BEGIN SOLUTION\n",
    "cmd = '''\n",
    "(begin\n",
    "    (define collatz (lambda (n) \n",
    "        (if (= n 1) \n",
    "            (list 1) \n",
    "            (cons n (collatz (collatz-next n))))))\n",
    "    \n",
    "    (define collatz-next (lambda (n) \n",
    "        (if (even? n)\n",
    "            (quotient n 2)\n",
    "            (+ (* 3 n) 1)))))\n",
    "'''\n",
    "### END SOLUTION"
   ]
  },
  {
   "cell_type": "code",
   "execution_count": 38,
   "metadata": {},
   "outputs": [
    {
     "data": {
      "text/plain": [
       "[13, 40, 20, 10, 5, 16, 8, 4, 2, 1]"
      ]
     },
     "execution_count": 38,
     "metadata": {},
     "output_type": "execute_result"
    }
   ],
   "source": [
    "# Teste sua função aqui! \n",
    "ns = standard_env_ext()\n",
    "eval(parse(cmd), ns)\n",
    "collatz = ns['collatz']\n",
    "\n",
    "collatz(13)"
   ]
  },
  {
   "cell_type": "code",
   "execution_count": 41,
   "metadata": {
    "nbgrader": {
     "grade": true,
     "grade_id": "q11-check",
     "locked": true,
     "points": 3,
     "schema_version": 1,
     "solution": false
    }
   },
   "outputs": [],
   "source": [
    "ns = standard_env_ext()\n",
    "eval(parse(cmd), ns)\n",
    "collatz = ns['collatz']\n",
    "\n",
    "assert collatz(13) == [13, 40, 20, 10, 5, 16, 8, 4, 2, 1]\n",
    "assert collatz(5) == [5, 16, 8, 4, 2, 1]\n",
    "\n",
    "### BEGIN HIDDEN TESTS\n",
    "assert collatz(7) == [7, 22, 11, 34, 17, 52, 26, 13, 40, 20, 10, 5, 16, 8, 4, 2, 1]\n",
    "### END HIDDEN TESTS"
   ]
  }
 ],
 "metadata": {
  "celltoolbar": "Create Assignment",
  "kernelspec": {
   "display_name": "Python 3",
   "language": "python",
   "name": "python3"
  },
  "language_info": {
   "codemirror_mode": {
    "name": "ipython",
    "version": 3
   },
   "file_extension": ".py",
   "mimetype": "text/x-python",
   "name": "python",
   "nbconvert_exporter": "python",
   "pygments_lexer": "ipython3",
   "version": "3.7.4"
  }
 },
 "nbformat": 4,
 "nbformat_minor": 2
}
